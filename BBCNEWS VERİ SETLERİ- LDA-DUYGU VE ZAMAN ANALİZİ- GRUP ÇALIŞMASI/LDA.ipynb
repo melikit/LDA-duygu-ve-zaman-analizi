{
 "cells": [
  {
   "cell_type": "code",
   "execution_count": 14,
   "id": "31262cd6-6692-42d1-87b7-b06ceeaf3c4b",
   "metadata": {},
   "outputs": [],
   "source": [
    "# Temel kütüphaneler\n",
    "import pandas as pd\n",
    "import numpy as np\n",
    "\n",
    "# Metin temizleme\n",
    "import re\n",
    "import nltk\n",
    "from nltk.corpus import stopwords\n",
    "\n",
    "# LDA modelleme\n",
    "import gensim\n",
    "from gensim import corpora\n",
    "from gensim.models import LdaModel\n",
    "\n",
    "# Görselleştirme\n",
    "import pyLDAvis\n",
    "import pyLDAvis.gensim_models as gensimvis\n",
    "\n"
   ]
  },
  {
   "cell_type": "code",
   "execution_count": 15,
   "id": "3b74b282-0d8a-4e70-b151-02c72e19c9c5",
   "metadata": {},
   "outputs": [
    {
     "data": {
      "text/html": [
       "<div>\n",
       "<style scoped>\n",
       "    .dataframe tbody tr th:only-of-type {\n",
       "        vertical-align: middle;\n",
       "    }\n",
       "\n",
       "    .dataframe tbody tr th {\n",
       "        vertical-align: top;\n",
       "    }\n",
       "\n",
       "    .dataframe thead th {\n",
       "        text-align: right;\n",
       "    }\n",
       "</style>\n",
       "<table border=\"1\" class=\"dataframe\">\n",
       "  <thead>\n",
       "    <tr style=\"text-align: right;\">\n",
       "      <th></th>\n",
       "      <th>title</th>\n",
       "      <th>pubDate</th>\n",
       "      <th>guid</th>\n",
       "      <th>link</th>\n",
       "      <th>description</th>\n",
       "    </tr>\n",
       "  </thead>\n",
       "  <tbody>\n",
       "    <tr>\n",
       "      <th>0</th>\n",
       "      <td>Ukraine: Angry Zelensky vows to punish Russian...</td>\n",
       "      <td>Mon, 07 Mar 2022 08:01:56 GMT</td>\n",
       "      <td>https://www.bbc.co.uk/news/world-europe-60638042</td>\n",
       "      <td>https://www.bbc.co.uk/news/world-europe-606380...</td>\n",
       "      <td>The Ukrainian president says the country will ...</td>\n",
       "    </tr>\n",
       "    <tr>\n",
       "      <th>1</th>\n",
       "      <td>War in Ukraine: Taking cover in a town under a...</td>\n",
       "      <td>Sun, 06 Mar 2022 22:49:58 GMT</td>\n",
       "      <td>https://www.bbc.co.uk/news/world-europe-60641873</td>\n",
       "      <td>https://www.bbc.co.uk/news/world-europe-606418...</td>\n",
       "      <td>Jeremy Bowen was on the frontline in Irpin, as...</td>\n",
       "    </tr>\n",
       "    <tr>\n",
       "      <th>2</th>\n",
       "      <td>Ukraine war 'catastrophic for global food'</td>\n",
       "      <td>Mon, 07 Mar 2022 00:14:42 GMT</td>\n",
       "      <td>https://www.bbc.co.uk/news/business-60623941</td>\n",
       "      <td>https://www.bbc.co.uk/news/business-60623941?a...</td>\n",
       "      <td>One of the world's biggest fertiliser firms sa...</td>\n",
       "    </tr>\n",
       "    <tr>\n",
       "      <th>3</th>\n",
       "      <td>Manchester Arena bombing: Saffie Roussos's par...</td>\n",
       "      <td>Mon, 07 Mar 2022 00:05:40 GMT</td>\n",
       "      <td>https://www.bbc.co.uk/news/uk-60579079</td>\n",
       "      <td>https://www.bbc.co.uk/news/uk-60579079?at_medi...</td>\n",
       "      <td>The parents of the Manchester Arena bombing's ...</td>\n",
       "    </tr>\n",
       "    <tr>\n",
       "      <th>4</th>\n",
       "      <td>Ukraine conflict: Oil price soars to highest l...</td>\n",
       "      <td>Mon, 07 Mar 2022 08:15:53 GMT</td>\n",
       "      <td>https://www.bbc.co.uk/news/business-60642786</td>\n",
       "      <td>https://www.bbc.co.uk/news/business-60642786?a...</td>\n",
       "      <td>Consumers are feeling the impact of higher ene...</td>\n",
       "    </tr>\n",
       "  </tbody>\n",
       "</table>\n",
       "</div>"
      ],
      "text/plain": [
       "                                               title  \\\n",
       "0  Ukraine: Angry Zelensky vows to punish Russian...   \n",
       "1  War in Ukraine: Taking cover in a town under a...   \n",
       "2         Ukraine war 'catastrophic for global food'   \n",
       "3  Manchester Arena bombing: Saffie Roussos's par...   \n",
       "4  Ukraine conflict: Oil price soars to highest l...   \n",
       "\n",
       "                         pubDate  \\\n",
       "0  Mon, 07 Mar 2022 08:01:56 GMT   \n",
       "1  Sun, 06 Mar 2022 22:49:58 GMT   \n",
       "2  Mon, 07 Mar 2022 00:14:42 GMT   \n",
       "3  Mon, 07 Mar 2022 00:05:40 GMT   \n",
       "4  Mon, 07 Mar 2022 08:15:53 GMT   \n",
       "\n",
       "                                               guid  \\\n",
       "0  https://www.bbc.co.uk/news/world-europe-60638042   \n",
       "1  https://www.bbc.co.uk/news/world-europe-60641873   \n",
       "2      https://www.bbc.co.uk/news/business-60623941   \n",
       "3            https://www.bbc.co.uk/news/uk-60579079   \n",
       "4      https://www.bbc.co.uk/news/business-60642786   \n",
       "\n",
       "                                                link  \\\n",
       "0  https://www.bbc.co.uk/news/world-europe-606380...   \n",
       "1  https://www.bbc.co.uk/news/world-europe-606418...   \n",
       "2  https://www.bbc.co.uk/news/business-60623941?a...   \n",
       "3  https://www.bbc.co.uk/news/uk-60579079?at_medi...   \n",
       "4  https://www.bbc.co.uk/news/business-60642786?a...   \n",
       "\n",
       "                                         description  \n",
       "0  The Ukrainian president says the country will ...  \n",
       "1  Jeremy Bowen was on the frontline in Irpin, as...  \n",
       "2  One of the world's biggest fertiliser firms sa...  \n",
       "3  The parents of the Manchester Arena bombing's ...  \n",
       "4  Consumers are feeling the impact of higher ene...  "
      ]
     },
     "execution_count": 15,
     "metadata": {},
     "output_type": "execute_result"
    }
   ],
   "source": [
    "# Gerekli kütüphaneleri içe aktar\n",
    "import pandas as pd\n",
    "\n",
    "# Veriyi oku \n",
    "df = pd.read_csv(r\"C:\\Users\\Lenovo\\Downloads\\archive (2)\\bbc_news.csv\")\n",
    "\n",
    "# İlk 5 satırı göster\n",
    "df.head()\n"
   ]
  },
  {
   "cell_type": "code",
   "execution_count": 3,
   "id": "06c8c8bb-9d90-489f-abe1-b95323fb9643",
   "metadata": {},
   "outputs": [
    {
     "name": "stdout",
     "output_type": "stream",
     "text": [
      "<class 'pandas.core.frame.DataFrame'>\n",
      "RangeIndex: 42115 entries, 0 to 42114\n",
      "Data columns (total 5 columns):\n",
      " #   Column       Non-Null Count  Dtype \n",
      "---  ------       --------------  ----- \n",
      " 0   title        42115 non-null  object\n",
      " 1   pubDate      42115 non-null  object\n",
      " 2   guid         42115 non-null  object\n",
      " 3   link         42115 non-null  object\n",
      " 4   description  42115 non-null  object\n",
      "dtypes: object(5)\n",
      "memory usage: 1.6+ MB\n"
     ]
    }
   ],
   "source": [
    "# Veri hakkında genel bilgiler\n",
    "df.info()\n"
   ]
  },
  {
   "cell_type": "code",
   "execution_count": 6,
   "id": "8fc575fc-379c-4cab-946d-fa93cc94b88c",
   "metadata": {},
   "outputs": [
    {
     "name": "stdout",
     "output_type": "stream",
     "text": [
      "title          0\n",
      "pubDate        0\n",
      "guid           0\n",
      "link           0\n",
      "description    0\n",
      "dtype: int64\n"
     ]
    }
   ],
   "source": [
    "# Eksik değer kontrolü\n",
    "print(df.isnull().sum())\n",
    "\n",
    "# Eğer eksik varsa satırları sil\n",
    "df.dropna(inplace=True)\n",
    "\n",
    "texts = df['description']\n",
    "\n",
    "\n"
   ]
  },
  {
   "cell_type": "code",
   "execution_count": 9,
   "id": "23842f4a-286d-4bf3-97f1-adbb97048880",
   "metadata": {},
   "outputs": [
    {
     "data": {
      "text/plain": [
       "[['ukrainian',\n",
       "  'president',\n",
       "  'says',\n",
       "  'country',\n",
       "  'forgive',\n",
       "  'forget',\n",
       "  'murder',\n",
       "  'civilians'],\n",
       " ['jeremy',\n",
       "  'bowen',\n",
       "  'frontline',\n",
       "  'irpin',\n",
       "  'residents',\n",
       "  'came',\n",
       "  'russian',\n",
       "  'fire',\n",
       "  'trying',\n",
       "  'flee']]"
      ]
     },
     "execution_count": 9,
     "metadata": {},
     "output_type": "execute_result"
    }
   ],
   "source": [
    "\n",
    "stop_words = set(stopwords.words(\"english\"))\n",
    "\n",
    "# Küçük harf, noktalama ve stopword temizleme\n",
    "cleaned_texts = []\n",
    "\n",
    "for doc in texts:\n",
    "    # Harf dışı karakterleri temizle\n",
    "    doc = re.sub(r'[^a-zA-Z]', ' ', doc)\n",
    "    # Küçük harfe çevir\n",
    "    doc = doc.lower()\n",
    "    # Tokenize et ve stopword'leri çıkar\n",
    "    tokens = [word for word in doc.split() if word not in stop_words and len(word) > 2]\n",
    "    cleaned_texts.append(tokens)\n",
    "cleaned_texts[:2]  # İlk 2 temizlenmiş belgeyi göster\n",
    "\n"
   ]
  },
  {
   "cell_type": "code",
   "execution_count": 10,
   "id": "1abc7c67-6477-4494-9f1a-8bf1b5235a99",
   "metadata": {},
   "outputs": [
    {
     "data": {
      "text/plain": [
       "[[(0, 1), (1, 1), (2, 1), (3, 1), (4, 1), (5, 1), (6, 1), (7, 1)]]"
      ]
     },
     "execution_count": 10,
     "metadata": {},
     "output_type": "execute_result"
    }
   ],
   "source": [
    "# Sözlük oluştur\n",
    "dictionary = corpora.Dictionary(cleaned_texts)\n",
    "\n",
    "# Corpus (metinlerin vektörel hali)\n",
    "corpus = [dictionary.doc2bow(text) for text in cleaned_texts]\n",
    "\n",
    "# Kontrol için ilk belgeyi yazdır\n",
    "corpus[:1]\n"
   ]
  },
  {
   "cell_type": "code",
   "execution_count": 11,
   "id": "774b2930-7bb3-4c8f-9ebf-f448de15a01e",
   "metadata": {},
   "outputs": [
    {
     "name": "stdout",
     "output_type": "stream",
     "text": [
      "Hücre 7 çalıştı: LDA Modeli Eğitimi.\n",
      "\n",
      "LDA modeli 5 konu ile eğitiliyor...\n",
      "LDA modeli eğitimi tamamlandı.\n",
      "------------------------------\n"
     ]
    }
   ],
   "source": [
    "# Hücre 7: LDA Modelini Eğitme\n",
    "\n",
    "# Eğer 'corpus' ve 'dictionary' değişkenleri tanımlanmamışsa bu hücreyi çalıştırma.\n",
    "if 'corpus' in locals() and corpus and 'dictionary' in locals() and dictionary:\n",
    "    print(\"Hücre 7 çalıştı: LDA Modeli Eğitimi.\")\n",
    "    # Konu sayısını belirle.\n",
    "    num_topics = 5 \n",
    "\n",
    "    print(f\"\\nLDA modeli {num_topics} konu ile eğitiliyor...\")\n",
    "    # LDA modelini eğitin (gensim.models.LdaModel kullanılıyor)\n",
    "    # id2word: Sözlük\n",
    "    # num_topics: Belirlenen konu sayısı\n",
    "    # passes: Eğitim veri seti üzerinden kaç kez geçileceği\n",
    "    # random_state: Tekrarlanabilir sonuçlar için\n",
    "    # update_every: Model parametrelerinin kaç dokümanda bir güncelleneceği\n",
    "    # chunksize: Her eğitim adımında kullanılacak doküman sayısı\n",
    "    lda_model = LdaModel(corpus=corpus,\n",
    "                         id2word=dictionary,\n",
    "                         num_topics=num_topics,\n",
    "                         random_state=100, \n",
    "                         update_every=1,\n",
    "                         chunksize=100, \n",
    "                         passes=10, \n",
    "                         alpha='auto', \n",
    "                         per_word_topics=True) \n",
    "\n",
    "    print(\"LDA modeli eğitimi tamamlandı.\")\n",
    "    print(\"-\" * 30)\n",
    "else:\n",
    "    print(\"Hata: 'corpus' veya 'dictionary' değişkeni tanımlanmamış veya boş. Lütfen 6. hücreyi kontrol edin.\")\n"
   ]
  },
  {
   "cell_type": "code",
   "execution_count": 12,
   "id": "6c2b1597-7022-4316-acb3-e71250b6a004",
   "metadata": {},
   "outputs": [
    {
     "name": "stdout",
     "output_type": "stream",
     "text": [
      "Hücre 8 çalıştı: Konuları Görüntüleme.\n",
      "\n",
      "==============================\n",
      "LDA Modeli Konuları:\n",
      "==============================\n",
      "Konu 0: 0.035*\"bbc\" + 0.011*\"man\" + 0.009*\"found\" + 0.009*\"election\" + 0.009*\"party\" + 0.008*\"family\" + 0.007*\"men\" + 0.007*\"star\" + 0.006*\"tells\" + 0.006*\"group\"\n",
      "Konu 1: 0.048*\"says\" + 0.022*\"people\" + 0.014*\"government\" + 0.014*\"said\" + 0.012*\"president\" + 0.009*\"israel\" + 0.008*\"minister\" + 0.008*\"next\" + 0.008*\"end\" + 0.007*\"war\"\n",
      "Konu 2: 0.021*\"one\" + 0.014*\"three\" + 0.010*\"made\" + 0.008*\"labour\" + 0.008*\"show\" + 0.007*\"woman\" + 0.007*\"days\" + 0.007*\"make\" + 0.007*\"number\" + 0.007*\"wants\"\n",
      "Konu 3: 0.019*\"first\" + 0.015*\"two\" + 0.014*\"former\" + 0.010*\"win\" + 0.010*\"manchester\" + 0.009*\"day\" + 0.009*\"city\" + 0.009*\"time\" + 0.009*\"league\" + 0.008*\"trump\"\n",
      "Konu 4: 0.022*\"year\" + 0.018*\"new\" + 0.018*\"england\" + 0.018*\"say\" + 0.014*\"police\" + 0.011*\"world\" + 0.011*\"years\" + 0.011*\"could\" + 0.010*\"old\" + 0.009*\"week\"\n",
      "==============================\n"
     ]
    }
   ],
   "source": [
    "# Hücre 8: Konuları Görüntüleme\n",
    "\n",
    "# Eğer 'lda_model' tanımlanmamışsa bu hücreyi çalıştırma.\n",
    "if 'lda_model' in locals() and lda_model:\n",
    "    print(\"Hücre 8 çalıştı: Konuları Görüntüleme.\")\n",
    "    print(\"\\n\" + \"=\"*30)\n",
    "    print(\"LDA Modeli Konuları:\")\n",
    "    print(\"=\"*30)\n",
    "    \n",
    "    topics = lda_model.print_topics(num_words=10) \n",
    "    for idx, topic in topics:\n",
    "        print(f\"Konu {idx}: {topic}\")\n",
    "    print(\"=\"*30)\n",
    "else:\n",
    "    print(\"Hata: 'lda_model' değişkeni tanımlanmamış. Lütfen 7. hücreyi kontrol edin.\")"
   ]
  },
  {
   "cell_type": "code",
   "execution_count": 17,
   "id": "a6aab53a-6a5b-44c0-ac51-d8eca553cea4",
   "metadata": {},
   "outputs": [
    {
     "name": "stdout",
     "output_type": "stream",
     "text": [
      "Hücre 9 çalıştı: Konu Tutarlılık Skoru Hesaplama.\n",
      "\n",
      "Konu Tutarlılık Skoru (Coherence Score) hesaplanıyor...\n",
      "Konu Tutarlılık Skoru (Coherence Score): 0.25656695899335913\n",
      "==============================\n"
     ]
    }
   ],
   "source": [
    "# Hücre 9: Konu Tutarlılık (Coherence) Skorunu Hesaplama\n",
    "\n",
    "from gensim.models.coherencemodel import CoherenceModel\n",
    "if 'lda_model' in locals() and lda_model and 'cleaned_texts' in locals() and cleaned_texts and 'dictionary' in locals() and dictionary:\n",
    "    print(\"Hücre 9 çalıştı: Konu Tutarlılık Skoru Hesaplama.\")\n",
    "    print(\"\\nKonu Tutarlılık Skoru (Coherence Score) hesaplanıyor...\")\n",
    "    \n",
    "    coherence_model_lda = CoherenceModel(model=lda_model, texts=cleaned_texts, dictionary=dictionary, coherence='c_v')\n",
    "\n",
    "    # Coherence skorunu hesapla\n",
    "    coherence_lda = coherence_model_lda.get_coherence()\n",
    "    print(f'Konu Tutarlılık Skoru (Coherence Score): {coherence_lda}')\n",
    "    print(\"=\"*30)\n",
    "else:\n",
    "     print(\"Hata: Gerekli değişkenler tanımlanmamış veya boş. Lütfen önceki hücreleri kontrol edin.\")"
   ]
  },
  {
   "cell_type": "code",
   "execution_count": 30,
   "id": "14e2d8c2-099c-4241-9ecd-c3646b2bd207",
   "metadata": {},
   "outputs": [
    {
     "name": "stdout",
     "output_type": "stream",
     "text": [
      "Konu görselleştirmesi hazırlanıyor...\n",
      "Konu görselleştirmesi 'lda_visualization.html' dosyasına kaydedildi.\n",
      "\n"
     ]
    },
    {
     "data": {
      "text/html": [
       "\n",
       "<link rel=\"stylesheet\" type=\"text/css\" href=\"https://cdn.jsdelivr.net/gh/bmabey/pyLDAvis@3.4.0/pyLDAvis/js/ldavis.v1.0.0.css\">\n",
       "\n",
       "\n",
       "<div id=\"ldavis_el2207625175111751043843185769\" style=\"background-color:white;\"></div>\n",
       "<script type=\"text/javascript\">\n",
       "\n",
       "var ldavis_el2207625175111751043843185769_data = {\"mdsDat\": {\"x\": [0.37960084060113153, 0.1276312752265442, -0.3088625487318832, -0.27151935836107194, 0.07314979126527951], \"y\": [-0.026812113146972235, 0.3246581337144226, -0.1921279223811738, 0.22865794610725027, -0.33437604429352685], \"topics\": [1, 2, 3, 4, 5], \"cluster\": [1, 1, 1, 1, 1], \"Freq\": [24.810066888779595, 23.885075814430248, 19.6493327343308, 16.401100752400165, 15.254423810059189]}, \"tinfo\": {\"Term\": [\"says\", \"bbc\", \"year\", \"people\", \"first\", \"new\", \"england\", \"say\", \"one\", \"two\", \"police\", \"former\", \"government\", \"said\", \"three\", \"world\", \"president\", \"years\", \"could\", \"win\", \"old\", \"manchester\", \"man\", \"day\", \"city\", \"time\", \"league\", \"week\", \"made\", \"trump\", \"first\", \"two\", \"former\", \"win\", \"manchester\", \"day\", \"city\", \"time\", \"league\", \"trump\", \"died\", \"since\", \"back\", \"news\", \"paris\", \"set\", \"last\", \"second\", \"life\", \"united\", \"take\", \"match\", \"britain\", \"victory\", \"london\", \"sport\", \"hit\", \"south\", \"premier\", \"plans\", \"year\", \"new\", \"england\", \"say\", \"police\", \"world\", \"years\", \"could\", \"old\", \"week\", \"wales\", \"women\", \"would\", \"team\", \"watch\", \"manager\", \"long\", \"court\", \"scotland\", \"death\", \"ireland\", \"many\", \"final\", \"head\", \"part\", \"euro\", \"told\", \"saturday\", \"also\", \"coach\", \"says\", \"people\", \"government\", \"said\", \"president\", \"israel\", \"minister\", \"next\", \"end\", \"war\", \"home\", \"children\", \"get\", \"killed\", \"ukraine\", \"russia\", \"following\", \"attack\", \"media\", \"left\", \"leader\", \"inquiry\", \"claims\", \"social\", \"history\", \"alleged\", \"sir\", \"gold\", \"russian\", \"donald\", \"gaza\", \"bbc\", \"man\", \"election\", \"found\", \"party\", \"family\", \"men\", \"star\", \"tells\", \"group\", \"prime\", \"chancellor\", \"series\", \"look\", \"british\", \"israeli\", \"murder\", \"change\", \"deal\", \"storm\", \"hears\", \"health\", \"law\", \"pay\", \"tuesday\", \"several\", \"monday\", \"staff\", \"much\", \"grand\", \"one\", \"three\", \"made\", \"labour\", \"show\", \"woman\", \"days\", \"make\", \"number\", \"wants\", \"allegations\", \"boss\", \"yet\", \"month\", \"called\", \"power\", \"looks\", \"vote\", \"taken\", \"support\", \"past\", \"political\", \"northern\", \"going\", \"way\", \"house\", \"calls\", \"hospital\", \"weather\", \"harris\"], \"Freq\": [4233.0, 2595.0, 2368.0, 1919.0, 2061.0, 1965.0, 1921.0, 1885.0, 1409.0, 1719.0, 1551.0, 1563.0, 1263.0, 1197.0, 964.0, 1232.0, 1069.0, 1204.0, 1152.0, 1101.0, 1061.0, 1062.0, 806.0, 1044.0, 1038.0, 1026.0, 979.0, 921.0, 694.0, 928.0, 2060.402664308781, 1718.6950859443791, 1563.1628046332528, 1100.9296816242636, 1061.8069883000994, 1044.0254166827801, 1037.796878144039, 1025.8247511341117, 978.314889949972, 927.6449713324699, 899.1419170304259, 834.4920370771056, 810.0681740779078, 734.2538641048482, 694.1751678459698, 686.7378321488907, 684.2669825157715, 662.29981267317, 628.7309695506041, 611.7403456856821, 596.1465978814741, 585.3569255754024, 555.5629354380522, 553.5118538542122, 550.53323785438, 546.9082983256765, 555.1357002363214, 549.0536527092188, 530.3098036749174, 539.8543283096747, 2367.9005482188845, 1964.8699655489488, 1920.7142336044178, 1884.4918923113958, 1551.1731668918244, 1231.774867249578, 1203.9181405267436, 1151.3504664771976, 1060.9722354094217, 920.2820019878242, 892.1918404020029, 802.6514487922065, 790.5056970833862, 726.1496123749046, 715.6126442192541, 672.6475998104597, 674.9865412562833, 658.419355520479, 649.8170611629897, 629.249432888561, 603.9909919471402, 579.9233883071936, 555.4762283662866, 544.043361568385, 519.0328328445847, 504.94971155432665, 503.5587373055223, 464.8743471303793, 465.66805561768297, 460.2185796459827, 4232.914695169638, 1918.563052709867, 1262.6736123418184, 1196.8088910688691, 1068.9870661647674, 789.3135473774262, 744.4475685473716, 713.4535748493248, 672.8880370808319, 642.8359571446572, 605.3449146036014, 584.1391441566257, 568.7217387124642, 552.0992914718845, 547.1801073217523, 488.7258468812515, 474.0372079382638, 463.0417251736111, 451.0562781085473, 444.69602955944714, 433.1503886629418, 416.5681478131566, 412.30524366802626, 383.13096904016874, 397.4863343761108, 367.8411644705717, 356.99237958938994, 367.38739489765146, 336.11967740527814, 333.76743926845205, 357.59678965407153, 2594.3311686104403, 805.3304929665401, 693.2979776127345, 697.3593732850981, 627.3633555284395, 594.8939235080969, 503.75522147715884, 496.05153429936814, 465.99567059128424, 461.9157638564189, 444.12183362793314, 444.0694541770024, 425.6009328393112, 421.36481330477875, 419.4161468992757, 397.4345344164703, 381.20999949067493, 374.8240257250423, 365.25003563967243, 363.0792707638944, 359.44736602131553, 350.74411574817844, 340.95035821521896, 319.87664478863115, 312.7128636004733, 314.33988315513665, 309.3906077978535, 310.84420612067214, 309.2178378811709, 303.5073464981234, 1408.3724799434315, 963.5216324612794, 693.7249519266827, 573.546428326515, 520.3343808257347, 507.1225705282011, 490.0034557230669, 456.70845543408404, 452.43143462004673, 450.8627866141231, 440.0409327093544, 434.86321461549306, 431.83020818956805, 403.3295956087714, 370.64793031348677, 375.44971489844886, 361.13583372748525, 358.26597307079425, 340.01663462415627, 342.11600853875075, 331.82994995389157, 334.38340282987554, 331.6560914665684, 314.28707700553116, 314.26373858397966, 298.43397592029976, 295.7463271203944, 289.37924225391157, 288.18318003248436, 284.9404785265805], \"Total\": [4233.0, 2595.0, 2368.0, 1919.0, 2061.0, 1965.0, 1921.0, 1885.0, 1409.0, 1719.0, 1551.0, 1563.0, 1263.0, 1197.0, 964.0, 1232.0, 1069.0, 1204.0, 1152.0, 1101.0, 1061.0, 1062.0, 806.0, 1044.0, 1038.0, 1026.0, 979.0, 921.0, 694.0, 928.0, 2061.216813968114, 1719.514623378282, 1563.9831358432648, 1101.739654459588, 1062.6182521266626, 1044.834796285181, 1038.612496290522, 1026.6376514871097, 979.1245813175011, 928.4798259059571, 899.963901730129, 835.3143240490606, 810.8932427395331, 735.0768585844363, 694.9803764010121, 687.5541945468801, 685.0853376450267, 663.1101265430066, 629.5553487454997, 612.552417035349, 596.9623716804426, 586.1672875739812, 556.3690918931519, 554.3262751694257, 551.3500950926549, 547.7239392986495, 555.9638594149538, 549.8827797860157, 531.1206236204364, 540.6920964995601, 2368.7187915456766, 1965.6869706945477, 1921.52577886081, 1885.3086153466418, 1551.9912001077398, 1232.5918659403414, 1204.737615680394, 1152.1676809233347, 1061.7865348616924, 921.102335322857, 893.0122232250146, 803.462894031392, 791.3264377944095, 726.9627558970388, 716.4258574528873, 673.4701041655813, 675.8130896624392, 659.2366134765361, 650.6383308148555, 630.0704984994162, 604.8150349339696, 580.742361716004, 556.2825000110006, 544.862160262593, 519.8524203192395, 505.76867709682443, 504.3759030520546, 465.69021461381766, 466.4869627466296, 461.0431181548361, 4233.744003109306, 1919.3900874018661, 1263.5035989077562, 1197.63774528135, 1069.8191276289022, 790.137144110371, 745.2738463181144, 714.2915608910482, 673.725952064736, 643.6636270778638, 606.1741747248052, 584.9665906175038, 569.5519296621552, 552.9242524058832, 548.0078387739726, 489.55421889112097, 474.8663875244787, 463.86292833578534, 451.8832656219123, 445.5255018887717, 433.97209997736337, 417.40666408415285, 413.1353342533726, 383.9573229854777, 398.36308776235524, 368.6813048430611, 357.81587870244715, 368.2369688222835, 336.9460663018065, 334.6042898776978, 364.19750428363216, 2595.157546322886, 806.1561270064161, 694.1186897945393, 698.1857285064815, 628.1876542291147, 595.7223653164838, 504.57950085134587, 496.87942498873934, 466.8254666140184, 462.7413784742382, 444.95179113115483, 444.90881454475846, 426.43427023692186, 422.193448123861, 420.2434315246882, 398.261660252151, 382.03185730294757, 375.6509391454912, 366.0834457124049, 363.9245646983464, 360.2867684799816, 351.5675537795999, 341.79125004483876, 320.70406488483985, 313.53741660085285, 315.17248670050503, 310.21319898118077, 311.672619243105, 310.04771768991657, 304.32874790803527, 1409.19372364437, 964.3506061921802, 694.5490535437808, 574.3634179942485, 521.1542462861358, 507.9442458406454, 490.82372944950873, 457.5375328336872, 453.2536400518497, 451.6912497687367, 440.8706303896069, 435.69244137137616, 432.67600830329803, 404.15847952999036, 371.46887384494835, 376.28237645219883, 361.9646762918622, 359.09153815070306, 340.8373201337054, 342.9433764493241, 332.64957386095904, 335.2099477116251, 332.4797158258401, 315.1065235128441, 315.08495132279614, 299.254292625036, 296.57827552642476, 290.19948266192415, 289.0171894616454, 285.7732922327224], \"Category\": [\"Default\", \"Default\", \"Default\", \"Default\", \"Default\", \"Default\", \"Default\", \"Default\", \"Default\", \"Default\", \"Default\", \"Default\", \"Default\", \"Default\", \"Default\", \"Default\", \"Default\", \"Default\", \"Default\", \"Default\", \"Default\", \"Default\", \"Default\", \"Default\", \"Default\", \"Default\", \"Default\", \"Default\", \"Default\", \"Default\", \"Topic1\", \"Topic1\", \"Topic1\", \"Topic1\", \"Topic1\", \"Topic1\", \"Topic1\", \"Topic1\", \"Topic1\", \"Topic1\", \"Topic1\", \"Topic1\", \"Topic1\", \"Topic1\", \"Topic1\", \"Topic1\", \"Topic1\", \"Topic1\", \"Topic1\", \"Topic1\", \"Topic1\", \"Topic1\", \"Topic1\", \"Topic1\", \"Topic1\", \"Topic1\", \"Topic1\", \"Topic1\", \"Topic1\", \"Topic1\", \"Topic2\", \"Topic2\", \"Topic2\", \"Topic2\", \"Topic2\", \"Topic2\", \"Topic2\", \"Topic2\", \"Topic2\", \"Topic2\", \"Topic2\", \"Topic2\", \"Topic2\", \"Topic2\", \"Topic2\", \"Topic2\", \"Topic2\", \"Topic2\", \"Topic2\", \"Topic2\", \"Topic2\", \"Topic2\", \"Topic2\", \"Topic2\", \"Topic2\", \"Topic2\", \"Topic2\", \"Topic2\", \"Topic2\", \"Topic2\", \"Topic3\", \"Topic3\", \"Topic3\", \"Topic3\", \"Topic3\", \"Topic3\", \"Topic3\", \"Topic3\", \"Topic3\", \"Topic3\", \"Topic3\", \"Topic3\", \"Topic3\", \"Topic3\", \"Topic3\", \"Topic3\", \"Topic3\", \"Topic3\", \"Topic3\", \"Topic3\", \"Topic3\", \"Topic3\", \"Topic3\", \"Topic3\", \"Topic3\", \"Topic3\", \"Topic3\", \"Topic3\", \"Topic3\", \"Topic3\", \"Topic3\", \"Topic4\", \"Topic4\", \"Topic4\", \"Topic4\", \"Topic4\", \"Topic4\", \"Topic4\", \"Topic4\", \"Topic4\", \"Topic4\", \"Topic4\", \"Topic4\", \"Topic4\", \"Topic4\", \"Topic4\", \"Topic4\", \"Topic4\", \"Topic4\", \"Topic4\", \"Topic4\", \"Topic4\", \"Topic4\", \"Topic4\", \"Topic4\", \"Topic4\", \"Topic4\", \"Topic4\", \"Topic4\", \"Topic4\", \"Topic4\", \"Topic5\", \"Topic5\", \"Topic5\", \"Topic5\", \"Topic5\", \"Topic5\", \"Topic5\", \"Topic5\", \"Topic5\", \"Topic5\", \"Topic5\", \"Topic5\", \"Topic5\", \"Topic5\", \"Topic5\", \"Topic5\", \"Topic5\", \"Topic5\", \"Topic5\", \"Topic5\", \"Topic5\", \"Topic5\", \"Topic5\", \"Topic5\", \"Topic5\", \"Topic5\", \"Topic5\", \"Topic5\", \"Topic5\", \"Topic5\"], \"logprob\": [30.0, 29.0, 28.0, 27.0, 26.0, 25.0, 24.0, 23.0, 22.0, 21.0, 20.0, 19.0, 18.0, 17.0, 16.0, 15.0, 14.0, 13.0, 12.0, 11.0, 10.0, 9.0, 8.0, 7.0, 6.0, 5.0, 4.0, 3.0, 2.0, 1.0, -3.9899, -4.1712, -4.266, -4.6166, -4.6528, -4.6697, -4.6757, -4.6873, -4.7347, -4.7879, -4.8191, -4.8937, -4.9234, -5.0217, -5.0778, -5.0886, -5.0922, -5.1248, -5.1768, -5.2042, -5.23, -5.2483, -5.3005, -5.3042, -5.3096, -5.3162, -5.3013, -5.3123, -5.347, -5.3292, -3.8128, -3.9993, -4.0221, -4.0411, -4.2357, -4.4663, -4.4892, -4.5338, -4.6156, -4.7578, -4.7888, -4.8946, -4.9098, -4.9948, -5.0094, -5.0713, -5.0678, -5.0927, -5.1058, -5.138, -5.179, -5.2196, -5.2627, -5.2835, -5.3305, -5.3581, -5.3608, -5.4407, -5.439, -5.4508, -3.0367, -3.828, -4.2463, -4.2999, -4.4128, -4.7161, -4.7747, -4.8172, -4.8757, -4.9214, -4.9815, -5.0172, -5.0439, -5.0736, -5.0825, -5.1955, -5.226, -5.2495, -5.2757, -5.2899, -5.3162, -5.3553, -5.3655, -5.4389, -5.4021, -5.4797, -5.5096, -5.4809, -5.5698, -5.5769, -5.5079, -3.3455, -4.5154, -4.6651, -4.6593, -4.7651, -4.8182, -4.9845, -4.9999, -5.0624, -5.0712, -5.1105, -5.1106, -5.1531, -5.1631, -5.1677, -5.2216, -5.2633, -5.2802, -5.306, -5.312, -5.322, -5.3465, -5.3749, -5.4387, -5.4613, -5.4561, -5.472, -5.4673, -5.4726, -5.4912, -3.8839, -4.2635, -4.5921, -4.7823, -4.8797, -4.9054, -4.9397, -5.0101, -5.0195, -5.023, -5.0473, -5.0591, -5.0661, -5.1344, -5.2189, -5.206, -5.2449, -5.2529, -5.3051, -5.299, -5.3295, -5.3218, -5.33, -5.3838, -5.3839, -5.4356, -5.4446, -5.4664, -5.4705, -5.4818], \"loglift\": [30.0, 29.0, 28.0, 27.0, 26.0, 25.0, 24.0, 23.0, 22.0, 21.0, 20.0, 19.0, 18.0, 17.0, 16.0, 15.0, 14.0, 13.0, 12.0, 11.0, 10.0, 9.0, 8.0, 7.0, 6.0, 5.0, 4.0, 3.0, 2.0, 1.0, 1.3935, 1.3934, 1.3934, 1.3932, 1.3932, 1.3931, 1.3931, 1.3931, 1.3931, 1.393, 1.393, 1.3929, 1.3929, 1.3928, 1.3928, 1.3927, 1.3927, 1.3927, 1.3926, 1.3926, 1.3926, 1.3925, 1.3925, 1.3925, 1.3924, 1.3924, 1.3924, 1.3924, 1.3924, 1.3924, 1.4316, 1.4315, 1.4315, 1.4315, 1.4314, 1.4313, 1.4312, 1.4312, 1.4311, 1.431, 1.431, 1.4309, 1.4309, 1.4308, 1.4308, 1.4307, 1.4307, 1.4307, 1.4307, 1.4306, 1.4306, 1.4305, 1.4305, 1.4304, 1.4303, 1.4303, 1.4303, 1.4302, 1.4302, 1.4301, 1.6269, 1.6267, 1.6265, 1.6264, 1.6263, 1.6261, 1.626, 1.626, 1.6259, 1.6258, 1.6258, 1.6257, 1.6257, 1.6256, 1.6256, 1.6254, 1.6254, 1.6254, 1.6253, 1.6253, 1.6252, 1.6251, 1.6251, 1.625, 1.6249, 1.6248, 1.6248, 1.6248, 1.6247, 1.6246, 1.6088, 1.8075, 1.8068, 1.8066, 1.8066, 1.8065, 1.8064, 1.8062, 1.8062, 1.806, 1.806, 1.806, 1.8059, 1.8059, 1.8059, 1.8059, 1.8057, 1.8057, 1.8056, 1.8055, 1.8055, 1.8055, 1.8055, 1.8054, 1.8052, 1.8052, 1.8052, 1.8052, 1.8052, 1.8051, 1.8051, 1.8797, 1.8794, 1.8791, 1.8789, 1.8787, 1.8787, 1.8786, 1.8785, 1.8785, 1.8785, 1.8784, 1.8784, 1.8783, 1.8782, 1.8781, 1.8781, 1.878, 1.878, 1.8779, 1.8779, 1.8778, 1.8778, 1.8778, 1.8777, 1.8777, 1.8776, 1.8775, 1.8775, 1.8774, 1.8774]}, \"token.table\": {\"Topic\": [5, 3, 2, 3, 1, 4, 5, 1, 4, 5, 5, 4, 4, 3, 1, 3, 2, 2, 2, 1, 5, 4, 2, 1, 3, 4, 3, 2, 2, 4, 2, 1, 3, 1, 4, 2, 3, 4, 5, 3, 5, 3, 3, 4, 4, 5, 2, 4, 4, 3, 1, 3, 5, 5, 3, 2, 3, 4, 3, 5, 1, 4, 3, 1, 3, 1, 1, 2, 4, 5, 5, 5, 4, 2, 1, 2, 1, 3, 4, 3, 4, 5, 4, 4, 2, 1, 3, 5, 5, 2, 5, 1, 2, 4, 5, 4, 3, 1, 2, 5, 5, 1, 3, 4, 3, 3, 3, 2, 2, 3, 2, 1, 4, 1, 4, 5, 1, 3, 3, 1, 1, 4, 4, 4, 5, 1, 5, 2, 4, 5, 1, 2, 1, 4, 1, 3, 1, 1, 5, 2, 5, 3, 2, 5, 5, 2, 1, 5, 2, 2, 2, 2, 2, 5], \"Freq\": [0.9980252021123804, 0.9981520493876109, 0.9989561064177176, 0.9981396910960717, 0.9988984459452204, 0.9995539591326446, 0.9984107106168822, 0.9993366060434882, 0.9970411636889197, 0.9987377842991387, 0.998050175706908, 0.9979573015524802, 0.998267170190039, 0.9983476139782899, 0.9994102744837854, 0.9972519071615493, 0.9977374824311209, 0.9989865356035686, 0.9981241735497445, 0.9992010255705983, 0.9983217407796632, 0.9970404405741524, 0.9983009861563655, 0.9989289551188931, 0.9981940163471344, 0.9983883306832289, 0.9989224816670469, 0.9997263742872491, 0.9984801805022075, 0.9987874127974027, 0.9976945167051359, 0.9994096623121508, 0.998175513055377, 0.9993713897415303, 0.9983017004529469, 0.0054915258245219235, 0.9829831225894243, 0.0054915258245219235, 0.0054915258245219235, 0.9990309405808131, 0.9964884144558214, 0.996640834769416, 0.9996014266139079, 0.9989197605868815, 0.9983978556733294, 0.997294036028767, 0.998417654362018, 0.9983856480113187, 0.9964284881029343, 0.9965782779473574, 0.9982663272106066, 0.9980629746799453, 0.9958666960708489, 0.9958086060720017, 0.9990257364839991, 0.9986524228286444, 0.9985608269161282, 0.9968320820755073, 0.9983284285291131, 0.9993672682088327, 0.9984157628467754, 0.9976849903421022, 0.9977599943005229, 0.9988514420545056, 0.9988204897664805, 0.9991178714522776, 0.999365022159657, 0.9987968719829837, 0.9971732196954632, 0.9973348883052766, 0.9992094819783003, 0.9988251612269751, 0.998565877045791, 0.9993019672845556, 0.9994181803997576, 0.9987217021437692, 0.9980086101719999, 0.9980453677108474, 0.9988515172527459, 0.9982907674482239, 0.9960891445458633, 0.9971336008306999, 0.9966207856722094, 0.9972990281223345, 0.9996505187729331, 0.9985350394698725, 0.998191829552855, 0.9985571576159208, 0.9972341313095548, 0.9992592344733446, 0.9991529030932078, 0.9985893466430102, 0.9983602647868485, 0.9981093957814688, 0.9980472728300246, 0.9978046274995215, 0.9997967649179672, 0.9987199803658298, 0.9993613365155222, 0.9963904779082929, 0.9965919837535582, 0.9978900769983332, 0.9992343307314783, 0.9978609117883643, 0.9988679111123252, 0.997192232240043, 0.9994674973431135, 0.9985178674746472, 0.9993058879930906, 0.9998242682815118, 0.9990189160634664, 0.9983258790680909, 0.9989816244443004, 0.9991939623795832, 0.9962798570624625, 0.9977852117787368, 0.9984265515253113, 0.9977198365108731, 0.997506694290829, 0.9983946036892458, 0.9986782770539909, 0.9978419046089502, 0.9982301038350314, 0.9974594605914752, 0.9972491772283478, 0.998387885524956, 0.9975433437471667, 0.9986756461878836, 0.9982317446817851, 0.9996364328596582, 0.9993788933357489, 0.9992547164728134, 0.9994832134284782, 0.9982859570424508, 0.999700715904776, 0.9981609044567185, 0.9990981718135689, 0.9994114023021442, 0.9969602788293915, 0.9988665068644199, 0.9984696410012578, 0.9989689846529366, 0.9994055805657248, 0.9965566387152377, 0.9964805226168724, 0.9988032433741788, 0.9993286485998809, 0.9981410443205578, 0.9994238762799992, 0.9995198200177234, 0.9995874802372087, 0.9996965483837752, 0.9993877374867411, 0.9984376108443153], \"Term\": [\"allegations\", \"alleged\", \"also\", \"attack\", \"back\", \"bbc\", \"boss\", \"britain\", \"british\", \"called\", \"calls\", \"chancellor\", \"change\", \"children\", \"city\", \"claims\", \"coach\", \"could\", \"court\", \"day\", \"days\", \"deal\", \"death\", \"died\", \"donald\", \"election\", \"end\", \"england\", \"euro\", \"family\", \"final\", \"first\", \"following\", \"former\", \"found\", \"gaza\", \"gaza\", \"gaza\", \"gaza\", \"get\", \"going\", \"gold\", \"government\", \"grand\", \"group\", \"harris\", \"head\", \"health\", \"hears\", \"history\", \"hit\", \"home\", \"hospital\", \"house\", \"inquiry\", \"ireland\", \"israel\", \"israeli\", \"killed\", \"labour\", \"last\", \"law\", \"leader\", \"league\", \"left\", \"life\", \"london\", \"long\", \"look\", \"looks\", \"made\", \"make\", \"man\", \"manager\", \"manchester\", \"many\", \"match\", \"media\", \"men\", \"minister\", \"monday\", \"month\", \"much\", \"murder\", \"new\", \"news\", \"next\", \"northern\", \"number\", \"old\", \"one\", \"paris\", \"part\", \"party\", \"past\", \"pay\", \"people\", \"plans\", \"police\", \"political\", \"power\", \"premier\", \"president\", \"prime\", \"russia\", \"russian\", \"said\", \"saturday\", \"say\", \"says\", \"scotland\", \"second\", \"series\", \"set\", \"several\", \"show\", \"since\", \"sir\", \"social\", \"south\", \"sport\", \"staff\", \"star\", \"storm\", \"support\", \"take\", \"taken\", \"team\", \"tells\", \"three\", \"time\", \"told\", \"trump\", \"tuesday\", \"two\", \"ukraine\", \"united\", \"victory\", \"vote\", \"wales\", \"wants\", \"war\", \"watch\", \"way\", \"weather\", \"week\", \"win\", \"woman\", \"women\", \"world\", \"would\", \"year\", \"years\", \"yet\"]}, \"R\": 30, \"lambda.step\": 0.01, \"plot.opts\": {\"xlab\": \"PC1\", \"ylab\": \"PC2\"}, \"topic.order\": [4, 5, 2, 1, 3]};\n",
       "\n",
       "function LDAvis_load_lib(url, callback){\n",
       "  var s = document.createElement('script');\n",
       "  s.src = url;\n",
       "  s.async = true;\n",
       "  s.onreadystatechange = s.onload = callback;\n",
       "  s.onerror = function(){console.warn(\"failed to load library \" + url);};\n",
       "  document.getElementsByTagName(\"head\")[0].appendChild(s);\n",
       "}\n",
       "\n",
       "if(typeof(LDAvis) !== \"undefined\"){\n",
       "   // already loaded: just create the visualization\n",
       "   !function(LDAvis){\n",
       "       new LDAvis(\"#\" + \"ldavis_el2207625175111751043843185769\", ldavis_el2207625175111751043843185769_data);\n",
       "   }(LDAvis);\n",
       "}else if(typeof define === \"function\" && define.amd){\n",
       "   // require.js is available: use it to load d3/LDAvis\n",
       "   require.config({paths: {d3: \"https://d3js.org/d3.v5\"}});\n",
       "   require([\"d3\"], function(d3){\n",
       "      window.d3 = d3;\n",
       "      LDAvis_load_lib(\"https://cdn.jsdelivr.net/gh/bmabey/pyLDAvis@3.4.0/pyLDAvis/js/ldavis.v3.0.0.js\", function(){\n",
       "        new LDAvis(\"#\" + \"ldavis_el2207625175111751043843185769\", ldavis_el2207625175111751043843185769_data);\n",
       "      });\n",
       "    });\n",
       "}else{\n",
       "    // require.js not available: dynamically load d3 & LDAvis\n",
       "    LDAvis_load_lib(\"https://d3js.org/d3.v5.js\", function(){\n",
       "         LDAvis_load_lib(\"https://cdn.jsdelivr.net/gh/bmabey/pyLDAvis@3.4.0/pyLDAvis/js/ldavis.v3.0.0.js\", function(){\n",
       "                 new LDAvis(\"#\" + \"ldavis_el2207625175111751043843185769\", ldavis_el2207625175111751043843185769_data);\n",
       "            })\n",
       "         });\n",
       "}\n",
       "</script>"
      ],
      "text/plain": [
       "PreparedData(topic_coordinates=              x         y  topics  cluster       Freq\n",
       "topic                                                \n",
       "3      0.379601 -0.026812       1        1  24.810067\n",
       "4      0.127631  0.324658       2        1  23.885076\n",
       "1     -0.308863 -0.192128       3        1  19.649333\n",
       "0     -0.271519  0.228658       4        1  16.401101\n",
       "2      0.073150 -0.334376       5        1  15.254424, topic_info=          Term         Freq        Total Category  logprob  loglift\n",
       "6         says  4233.000000  4233.000000  Default  30.0000  30.0000\n",
       "147        bbc  2595.000000  2595.000000  Default  29.0000  29.0000\n",
       "130       year  2368.000000  2368.000000  Default  28.0000  28.0000\n",
       "89      people  1919.000000  1919.000000  Default  27.0000  27.0000\n",
       "151      first  2061.000000  2061.000000  Default  26.0000  26.0000\n",
       "...        ...          ...          ...      ...      ...      ...\n",
       "867      house   298.433976   299.254293   Topic5  -5.4356   1.8776\n",
       "617      calls   295.746327   296.578276   Topic5  -5.4446   1.8775\n",
       "500   hospital   289.379242   290.199483   Topic5  -5.4664   1.8775\n",
       "2309   weather   288.183180   289.017189   Topic5  -5.4705   1.8774\n",
       "4718    harris   284.940479   285.773292   Topic5  -5.4818   1.8774\n",
       "\n",
       "[181 rows x 6 columns], token_table=      Topic      Freq         Term\n",
       "term                              \n",
       "2270      5  0.998025  allegations\n",
       "2999      3  0.998152      alleged\n",
       "425       2  0.998956         also\n",
       "335       3  0.998140       attack\n",
       "363       1  0.998898         back\n",
       "...     ...       ...          ...\n",
       "28        2  0.999520        world\n",
       "1097      2  0.999587        would\n",
       "130       2  0.999697         year\n",
       "258       2  0.999388        years\n",
       "2692      5  0.998438          yet\n",
       "\n",
       "[154 rows x 3 columns], R=30, lambda_step=0.01, plot_opts={'xlab': 'PC1', 'ylab': 'PC2'}, topic_order=[4, 5, 2, 1, 3])"
      ]
     },
     "metadata": {},
     "output_type": "display_data"
    }
   ],
   "source": [
    "import warnings\n",
    "warnings.filterwarnings(\"ignore\", category=FutureWarning)\n",
    "\n",
    "import pyLDAvis\n",
    "import pyLDAvis.gensim_models as gensimvis\n",
    "from IPython.display import display\n",
    "pyLDAvis.enable_notebook()\n",
    "\n",
    "# Eğer 'lda_model', 'corpus' ve 'dictionary' tanımlıysa görselleştirme yap\n",
    "if 'lda_model' in locals() and lda_model and 'corpus' in locals() and corpus and 'dictionary' in locals() and dictionary:\n",
    "    print(\"Konu görselleştirmesi hazırlanıyor...\")\n",
    "\n",
    "    vis_data = gensimvis.prepare(lda_model, corpus, dictionary, mds='mmds')\n",
    "\n",
    "    # HTML olarak kaydet\n",
    "    pyLDAvis.save_html(vis_data, 'lda_visualization.html')\n",
    "    print(\"Konu görselleştirmesi 'lda_visualization.html' dosyasına kaydedildi.\\n\")\n",
    "\n",
    "    # Jupyter hücresinde çıktıyı göster\n",
    "    display(vis_data)\n",
    "else:\n",
    "    print(\"Hata: Gerekli değişkenler tanımlanmamış veya boş.\")"
   ]
  },
  {
   "cell_type": "code",
   "execution_count": null,
   "id": "12079545-dea9-4d59-b0cd-ed078369901b",
   "metadata": {},
   "outputs": [],
   "source": []
  }
 ],
 "metadata": {
  "kernelspec": {
   "display_name": "Python 3 (ipykernel)",
   "language": "python",
   "name": "python3"
  },
  "language_info": {
   "codemirror_mode": {
    "name": "ipython",
    "version": 3
   },
   "file_extension": ".py",
   "mimetype": "text/x-python",
   "name": "python",
   "nbconvert_exporter": "python",
   "pygments_lexer": "ipython3",
   "version": "3.12.7"
  }
 },
 "nbformat": 4,
 "nbformat_minor": 5
}
